{
    "cells": [
        {
            "cell_type": "markdown",
            "id": "ac622319",
            "metadata": {},
            "source": [
                "# Descriptive statistics problems"
            ]
        },
        {
            "cell_type": "markdown",
            "id": "5e0ab0d5",
            "metadata": {},
            "source": [
                "### Exercise 1\n",
                "\n",
                "We will use NumPy to obtain information to describe statistically.\n",
                "\n",
                "- Generate an array of 100 elements following a normal distribution.\n",
                "- Generate an array of 100 elements following a chi-square distribution with 3 degrees of freedom.\n",
                "- Calculate the main metrics and statistical measures that best describe the two vectors."
            ]
        },
        {
            "cell_type": "code",
            "execution_count": 13,
            "id": "34720ab6",
            "metadata": {},
            "outputs": [
                {
                    "name": "stdout",
                    "output_type": "stream",
                    "text": [
                        "Métricas para la distribución normal:\n",
                        "Media: 0.08577728024080013\n",
                        "Mediana: 0.01448848646047526\n",
                        "Desviación estándar: 1.15486293612329\n",
                        "Varianza: 1.3337084012313065\n",
                        "Mínimo: -2.6666841178912666\n",
                        "Máximo: 3.6247009698411095\n",
                        "Cuantiles (25%, 50%, 75%): [-0.81838037  0.01448849  0.79040401]\n",
                        "Métricas para la distribución chi:\n",
                        "Media: 2.96463619575756\n",
                        "Mediana: 2.3201610747896244\n",
                        "Desviación estándar: 2.4507539403189504\n",
                        "Varianza: 6.006194875988862\n",
                        "Mínimo: 0.03310916749045809\n",
                        "Máximo: 10.864342438870215\n",
                        "Cuantiles (25%, 50%, 75%): [1.08870458 2.32016107 3.81098013]\n"
                    ]
                }
            ],
            "source": [
                "import numpy as np\n",
                "\n",
                "# Array de 100 elementos Normal\n",
                "#mu, sigma = 0, 0.1 # mean and standard deviation\n",
                "#s = np.random.normal(mu, sigma, 100)\n",
                "normal_array = np.random.normal(loc=0, scale=1, size=100)\n",
                "# Array de 100 elementos Chicuadrado\n",
                "chicuadrado_array=np.random.chisquare(df=3,size=100)\n",
                "\n",
                "# Calcular las métricas estadísticas para el array de distribución normal\n",
                "mean_normal = np.mean(normal_array)\n",
                "median_normal = np.median(normal_array)\n",
                "std_normal = np.std(normal_array)\n",
                "var_normal = np.var(normal_array)\n",
                "min_normal = np.min(normal_array)\n",
                "max_normal = np.max(normal_array)\n",
                "quantiles_normal = np.percentile(normal_array, [25, 50, 75])\n",
                "\n",
                "\n",
                "print(\"Métricas para la distribución normal:\")\n",
                "print(f\"Media: {mean_normal}\")\n",
                "print(f\"Mediana: {median_normal}\")\n",
                "print(f\"Desviación estándar: {std_normal}\")\n",
                "print(f\"Varianza: {var_normal}\")\n",
                "print(f\"Mínimo: {min_normal}\")\n",
                "print(f\"Máximo: {max_normal}\")\n",
                "print(f\"Cuantiles (25%, 50%, 75%): {quantiles_normal}\")\n",
                "\n",
                "# Métricas estadísticas chicuadrado\n",
                "mean_chi = np.mean(chicuadrado_array)\n",
                "median_chi = np.median(chicuadrado_array)\n",
                "std_chi = np.std(chicuadrado_array)\n",
                "var_chi = np.var(chicuadrado_array)\n",
                "min_chi = np.min(chicuadrado_array)\n",
                "max_chi = np.max(chicuadrado_array)\n",
                "quantiles_chi= np.percentile(chicuadrado_array, [25, 50, 75])\n",
                "\n",
                "print(\"Métricas para la distribución chi:\")\n",
                "print(f\"Media: {mean_chi}\")\n",
                "print(f\"Mediana: {median_chi}\")\n",
                "print(f\"Desviación estándar: {std_chi}\")\n",
                "print(f\"Varianza: {var_chi}\")\n",
                "print(f\"Mínimo: {min_chi}\")\n",
                "print(f\"Máximo: {max_chi}\")\n",
                "print(f\"Cuantiles (25%, 50%, 75%): {quantiles_chi}\")\n"
            ]
        },
        {
            "cell_type": "markdown",
            "id": "46c70c3d",
            "metadata": {},
            "source": [
                "### Exercise 2\n",
                "\n",
                "Write a Python program to calculate the standard deviation of the following data:\n",
                "\n",
                "```py\n",
                "data = [4, 2, 5, 8, 6]\n",
                "```"
            ]
        },
        {
            "cell_type": "code",
            "execution_count": 14,
            "id": "d590308e",
            "metadata": {},
            "outputs": [
                {
                    "name": "stdout",
                    "output_type": "stream",
                    "text": [
                        "La desviación estándar es: 2.0\n",
                        "La desviación estándar usando el metodo es: 2.0\n"
                    ]
                }
            ],
            "source": [
                "import math\n",
                "\n",
                "data = [4, 2, 5, 8, 6]\n",
                "mean = sum(data) / len(data)\n",
                "\n",
                "suma_resta = 0\n",
                "for x in data:\n",
                "    resta = (x - mean) ** 2\n",
                "    suma_resta += resta\n",
                "\n",
                "variance = suma_resta / len(data)\n",
                "std_dev = math.sqrt(variance)\n",
                "\n",
                "print(f\"La desviación estándar es: {std_dev}\")\n",
                "stddev2 =np.std(data)\n",
                "print(f\"La desviación estándar usando el metodo es: {stddev2}\")\n"
            ]
        }
    ],
    "metadata": {
        "interpreter": {
            "hash": "9248718ffe6ce6938b217e69dbcc175ea21f4c6b28a317e96c05334edae734bb"
        },
        "kernelspec": {
            "display_name": "Python 3.9.12 ('ML-BOOTCAMP')",
            "language": "python",
            "name": "python3"
        },
        "language_info": {
            "codemirror_mode": {
                "name": "ipython",
                "version": 3
            },
            "file_extension": ".py",
            "mimetype": "text/x-python",
            "name": "python",
            "nbconvert_exporter": "python",
            "pygments_lexer": "ipython3",
            "version": "3.11.4"
        }
    },
    "nbformat": 4,
    "nbformat_minor": 5
}
